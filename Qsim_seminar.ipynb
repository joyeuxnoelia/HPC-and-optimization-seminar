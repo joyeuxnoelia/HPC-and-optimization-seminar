{
 "cells": [
  {
   "cell_type": "markdown",
   "metadata": {},
   "source": [
    "### Import the necessary libraries for using Cirq and QSimCirq"
   ]
  },
  {
   "cell_type": "code",
   "execution_count": 11,
   "metadata": {},
   "outputs": [],
   "source": [
    "try:\n",
    "    import cirq\n",
    "except ImportError:\n",
    "    !pip install cirq\n",
    "    import cirq\n",
    "\n",
    "try:\n",
    "    import qsimcirq\n",
    "except ImportError:\n",
    "    !pip install qsimcirq\n",
    "    import qsimcirq"
   ]
  },
  {
   "cell_type": "markdown",
   "metadata": {},
   "source": [
    "### Exemple "
   ]
  },
  {
   "cell_type": "code",
   "execution_count": 12,
   "metadata": {},
   "outputs": [
    {
     "name": "stdout",
     "output_type": "stream",
     "text": [
      "Circuit:\n",
      "(0, 0): ───H───@───\n",
      "               │\n",
      "(1, 0): ───────X───\n",
      "\n",
      "qsim results:\n",
      "measurements: (no measurements)\n",
      "\n",
      "qubits: (cirq.GridQubit(0, 0), cirq.GridQubit(1, 0))\n",
      "output vector: 0.707|00⟩ + 0.707|11⟩\n"
     ]
    }
   ],
   "source": [
    "import cirq\n",
    "import qsimcirq \n",
    "\n",
    "\n",
    "# Instantiate a simulator that uses the GPU\n",
    "gpu_options = qsimcirq.QSimOptions(cpu_threads=4, use_gpu=False, gpu_mode = 0, max_fused_gate_size=4)\n",
    "qsim_simulator = qsimcirq.QSimSimulator(qsim_options=gpu_options)\n",
    "\n",
    "#-------------------------------------------------------\n",
    "\n",
    "# Define qubits and a short circuit.\n",
    "q0, q1 = qubits = cirq.GridQubit.rect(2, 1)\n",
    "circuit = cirq.Circuit(cirq.H(q0), cirq.CX(q0, q1))\n",
    "print(\"Circuit:\")\n",
    "print(circuit)\n",
    "print()\n",
    "\n",
    "\n",
    "# Simulate the circuit with qsim and return the full state vector.\n",
    "print('qsim results:')\n",
    "qsim_simulator = qsimcirq.QSimSimulator()\n",
    "qsim_results = qsim_simulator.simulate(circuit)\n",
    "print(qsim_results)\n",
    "\n"
   ]
  },
  {
   "cell_type": "markdown",
   "metadata": {},
   "source": [
    "### We load the Scalene profiler to measure execution times."
   ]
  },
  {
   "cell_type": "code",
   "execution_count": 12,
   "metadata": {},
   "outputs": [
    {
     "name": "stdout",
     "output_type": "stream",
     "text": [
      "The scalene extension is already loaded. To reload it, use:\n",
      "  %reload_ext scalene\n",
      "LOADING\n",
      "Scalene extension successfully loaded. Note: Scalene currently only\n",
      "supports CPU+GPU profiling inside Jupyter notebooks. For full Scalene\n",
      "profiling, use the command line version. To profile in line mode, use\n",
      "`%scrun [options] statement`. To profile in cell mode, use `%%scalene\n",
      "[options]` followed by your code.\n"
     ]
    }
   ],
   "source": [
    "%load_ext scalene\n",
    "%reload_ext scalene"
   ]
  },
  {
   "cell_type": "code",
   "execution_count": 19,
   "metadata": {},
   "outputs": [
    {
     "data": {
      "text/html": [
       "\n",
       "        <iframe\n",
       "            width=\"100%\"\n",
       "            height=\"400\"\n",
       "            src=\"http://localhost:8190\"\n",
       "            frameborder=\"0\"\n",
       "            allowfullscreen\n",
       "            \n",
       "        ></iframe>\n",
       "        "
      ],
      "text/plain": [
       "<IPython.lib.display.IFrame at 0x20a09485910>"
      ]
     },
     "metadata": {},
     "output_type": "display_data"
    }
   ],
   "source": [
    "%%scalene --reduced-profile\n",
    "\n",
    "# Importamos cirq y qsim\n",
    "import cirq\n",
    "import qsimcirq \n",
    "\n",
    "\n",
    "# Instantiate a simulator that uses the GPU\n",
    "gpu_options = qsimcirq.QSimOptions(cpu_threads=4, use_gpu=False, gpu_mode = 0, max_fused_gate_size=4)\n",
    "qsim_simulator = qsimcirq.QSimSimulator(qsim_options=gpu_options)\n",
    "\n",
    "#-------------------------------------------------------\n",
    "\n",
    "# Now we define a larger circuit in order to test scalene\n",
    "n=20 #number of qubits\n",
    "cycles=40 #depth of the circuit\n",
    "qubits = cirq.GridQubit.rect(n, 1)\n",
    "circuit = cirq.experiments.random_rotations_between_grid_interaction_layers_circuit(qubits=qubits, depth=cycles) #a random circuit\n",
    "\n",
    "# Simulate the circuit with qsim and return the full state vector.\n",
    "#print('qsim results:')\n",
    "qsim_simulator = qsimcirq.QSimSimulator()\n",
    "qsim_results = qsim_simulator.simulate(circuit)\n",
    "#print(qsim_results)\n",
    "\n"
   ]
  },
  {
   "cell_type": "code",
   "execution_count": null,
   "metadata": {},
   "outputs": [],
   "source": []
  }
 ],
 "metadata": {
  "kernelspec": {
   "display_name": "Python 3",
   "language": "python",
   "name": "python3"
  },
  "language_info": {
   "codemirror_mode": {
    "name": "ipython",
    "version": 3
   },
   "file_extension": ".py",
   "mimetype": "text/x-python",
   "name": "python",
   "nbconvert_exporter": "python",
   "pygments_lexer": "ipython3",
   "version": "3.12.3"
  }
 },
 "nbformat": 4,
 "nbformat_minor": 2
}
